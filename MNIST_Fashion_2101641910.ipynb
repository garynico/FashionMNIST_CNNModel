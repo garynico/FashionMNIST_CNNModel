{
  "nbformat": 4,
  "nbformat_minor": 0,
  "metadata": {
    "colab": {
      "name": "MNIST-Fashion-2101641910.ipynb",
      "provenance": [],
      "collapsed_sections": []
    },
    "kernelspec": {
      "name": "python3",
      "display_name": "Python 3"
    }
  },
  "cells": [
    {
      "cell_type": "markdown",
      "metadata": {
        "id": "RBX9gASsur9k",
        "colab_type": "text"
      },
      "source": [
        "# **FASHION MNIST/ Gary Nico (2101641910)**"
      ]
    },
    {
      "cell_type": "code",
      "metadata": {
        "id": "36lcB6uhunaL",
        "colab_type": "code",
        "colab": {}
      },
      "source": [
        "import tensorflow as tf\n",
        "from tensorflow import keras\n",
        "from keras.callbacks import ModelCheckpoint\n",
        "import numpy as np\n",
        "import matplotlib.pyplot as plt\n",
        "import pandas as pd\n",
        "from keras.optimizers import Adam\n",
        "\n",
        "# Confusion Matrix\n",
        "from sklearn.metrics import confusion_matrix, classification_report\n",
        "import itertools"
      ],
      "execution_count": 0,
      "outputs": []
    },
    {
      "cell_type": "markdown",
      "metadata": {
        "id": "J52qlQGfvBTa",
        "colab_type": "text"
      },
      "source": [
        "##Data Exploration with Pandas\n",
        "\n",
        "Kami ingin mengetahui/mengenal isi dan info-info dari dataset Fashion MNIST. Libary Pandas digunakan karena sangat simple untuk kepentingan analysis.\n",
        "\n"
      ]
    },
    {
      "cell_type": "code",
      "metadata": {
        "id": "nInzjuNdvGPg",
        "colab_type": "code",
        "colab": {}
      },
      "source": [
        "df = pd.read_csv(\"https://raw.githubusercontent.com/ymattu/fashion-mnist-csv/master/fashion_test.csv\")"
      ],
      "execution_count": 0,
      "outputs": []
    },
    {
      "cell_type": "code",
      "metadata": {
        "id": "AavW8aeYx2LX",
        "colab_type": "code",
        "outputId": "cebdfe7a-a4f7-4b5e-bff3-480eeca78930",
        "colab": {
          "base_uri": "https://localhost:8080/",
          "height": 104
        }
      },
      "source": [
        "df.info()"
      ],
      "execution_count": 0,
      "outputs": [
        {
          "output_type": "stream",
          "text": [
            "<class 'pandas.core.frame.DataFrame'>\n",
            "RangeIndex: 1000 entries, 0 to 999\n",
            "Columns: 785 entries, V1 to y\n",
            "dtypes: int64(785)\n",
            "memory usage: 6.0 MB\n"
          ],
          "name": "stdout"
        }
      ]
    },
    {
      "cell_type": "code",
      "metadata": {
        "id": "N2Cs9J27xpqf",
        "colab_type": "code",
        "outputId": "6b3098c4-74dd-473e-f5c8-fd55179eb9a5",
        "colab": {
          "base_uri": "https://localhost:8080/",
          "height": 251
        }
      },
      "source": [
        "df.head()"
      ],
      "execution_count": 0,
      "outputs": [
        {
          "output_type": "execute_result",
          "data": {
            "text/html": [
              "<div>\n",
              "<style scoped>\n",
              "    .dataframe tbody tr th:only-of-type {\n",
              "        vertical-align: middle;\n",
              "    }\n",
              "\n",
              "    .dataframe tbody tr th {\n",
              "        vertical-align: top;\n",
              "    }\n",
              "\n",
              "    .dataframe thead th {\n",
              "        text-align: right;\n",
              "    }\n",
              "</style>\n",
              "<table border=\"1\" class=\"dataframe\">\n",
              "  <thead>\n",
              "    <tr style=\"text-align: right;\">\n",
              "      <th></th>\n",
              "      <th>V1</th>\n",
              "      <th>V2</th>\n",
              "      <th>V3</th>\n",
              "      <th>V4</th>\n",
              "      <th>V5</th>\n",
              "      <th>V6</th>\n",
              "      <th>V7</th>\n",
              "      <th>V8</th>\n",
              "      <th>V9</th>\n",
              "      <th>V10</th>\n",
              "      <th>V11</th>\n",
              "      <th>V12</th>\n",
              "      <th>V13</th>\n",
              "      <th>V14</th>\n",
              "      <th>V15</th>\n",
              "      <th>V16</th>\n",
              "      <th>V17</th>\n",
              "      <th>V18</th>\n",
              "      <th>V19</th>\n",
              "      <th>V20</th>\n",
              "      <th>V21</th>\n",
              "      <th>V22</th>\n",
              "      <th>V23</th>\n",
              "      <th>V24</th>\n",
              "      <th>V25</th>\n",
              "      <th>V26</th>\n",
              "      <th>V27</th>\n",
              "      <th>V28</th>\n",
              "      <th>V29</th>\n",
              "      <th>V30</th>\n",
              "      <th>V31</th>\n",
              "      <th>V32</th>\n",
              "      <th>V33</th>\n",
              "      <th>V34</th>\n",
              "      <th>V35</th>\n",
              "      <th>V36</th>\n",
              "      <th>V37</th>\n",
              "      <th>V38</th>\n",
              "      <th>V39</th>\n",
              "      <th>V40</th>\n",
              "      <th>...</th>\n",
              "      <th>V746</th>\n",
              "      <th>V747</th>\n",
              "      <th>V748</th>\n",
              "      <th>V749</th>\n",
              "      <th>V750</th>\n",
              "      <th>V751</th>\n",
              "      <th>V752</th>\n",
              "      <th>V753</th>\n",
              "      <th>V754</th>\n",
              "      <th>V755</th>\n",
              "      <th>V756</th>\n",
              "      <th>V757</th>\n",
              "      <th>V758</th>\n",
              "      <th>V759</th>\n",
              "      <th>V760</th>\n",
              "      <th>V761</th>\n",
              "      <th>V762</th>\n",
              "      <th>V763</th>\n",
              "      <th>V764</th>\n",
              "      <th>V765</th>\n",
              "      <th>V766</th>\n",
              "      <th>V767</th>\n",
              "      <th>V768</th>\n",
              "      <th>V769</th>\n",
              "      <th>V770</th>\n",
              "      <th>V771</th>\n",
              "      <th>V772</th>\n",
              "      <th>V773</th>\n",
              "      <th>V774</th>\n",
              "      <th>V775</th>\n",
              "      <th>V776</th>\n",
              "      <th>V777</th>\n",
              "      <th>V778</th>\n",
              "      <th>V779</th>\n",
              "      <th>V780</th>\n",
              "      <th>V781</th>\n",
              "      <th>V782</th>\n",
              "      <th>V783</th>\n",
              "      <th>V784</th>\n",
              "      <th>y</th>\n",
              "    </tr>\n",
              "  </thead>\n",
              "  <tbody>\n",
              "    <tr>\n",
              "      <th>0</th>\n",
              "      <td>0</td>\n",
              "      <td>0</td>\n",
              "      <td>0</td>\n",
              "      <td>0</td>\n",
              "      <td>0</td>\n",
              "      <td>1</td>\n",
              "      <td>3</td>\n",
              "      <td>2</td>\n",
              "      <td>0</td>\n",
              "      <td>0</td>\n",
              "      <td>2</td>\n",
              "      <td>0</td>\n",
              "      <td>0</td>\n",
              "      <td>0</td>\n",
              "      <td>0</td>\n",
              "      <td>0</td>\n",
              "      <td>0</td>\n",
              "      <td>0</td>\n",
              "      <td>0</td>\n",
              "      <td>0</td>\n",
              "      <td>4</td>\n",
              "      <td>1</td>\n",
              "      <td>1</td>\n",
              "      <td>0</td>\n",
              "      <td>0</td>\n",
              "      <td>0</td>\n",
              "      <td>0</td>\n",
              "      <td>0</td>\n",
              "      <td>0</td>\n",
              "      <td>0</td>\n",
              "      <td>0</td>\n",
              "      <td>0</td>\n",
              "      <td>0</td>\n",
              "      <td>2</td>\n",
              "      <td>0</td>\n",
              "      <td>0</td>\n",
              "      <td>46</td>\n",
              "      <td>145</td>\n",
              "      <td>199</td>\n",
              "      <td>177</td>\n",
              "      <td>...</td>\n",
              "      <td>191</td>\n",
              "      <td>171</td>\n",
              "      <td>69</td>\n",
              "      <td>10</td>\n",
              "      <td>215</td>\n",
              "      <td>201</td>\n",
              "      <td>102</td>\n",
              "      <td>0</td>\n",
              "      <td>0</td>\n",
              "      <td>0</td>\n",
              "      <td>0</td>\n",
              "      <td>0</td>\n",
              "      <td>0</td>\n",
              "      <td>0</td>\n",
              "      <td>0</td>\n",
              "      <td>0</td>\n",
              "      <td>24</td>\n",
              "      <td>25</td>\n",
              "      <td>0</td>\n",
              "      <td>0</td>\n",
              "      <td>0</td>\n",
              "      <td>0</td>\n",
              "      <td>0</td>\n",
              "      <td>0</td>\n",
              "      <td>0</td>\n",
              "      <td>0</td>\n",
              "      <td>0</td>\n",
              "      <td>0</td>\n",
              "      <td>0</td>\n",
              "      <td>0</td>\n",
              "      <td>0</td>\n",
              "      <td>0</td>\n",
              "      <td>135</td>\n",
              "      <td>117</td>\n",
              "      <td>25</td>\n",
              "      <td>0</td>\n",
              "      <td>0</td>\n",
              "      <td>0</td>\n",
              "      <td>0</td>\n",
              "      <td>2</td>\n",
              "    </tr>\n",
              "    <tr>\n",
              "      <th>1</th>\n",
              "      <td>0</td>\n",
              "      <td>0</td>\n",
              "      <td>0</td>\n",
              "      <td>0</td>\n",
              "      <td>0</td>\n",
              "      <td>0</td>\n",
              "      <td>0</td>\n",
              "      <td>0</td>\n",
              "      <td>0</td>\n",
              "      <td>11</td>\n",
              "      <td>107</td>\n",
              "      <td>6</td>\n",
              "      <td>0</td>\n",
              "      <td>0</td>\n",
              "      <td>0</td>\n",
              "      <td>0</td>\n",
              "      <td>0</td>\n",
              "      <td>3</td>\n",
              "      <td>69</td>\n",
              "      <td>0</td>\n",
              "      <td>0</td>\n",
              "      <td>0</td>\n",
              "      <td>1</td>\n",
              "      <td>0</td>\n",
              "      <td>0</td>\n",
              "      <td>0</td>\n",
              "      <td>0</td>\n",
              "      <td>0</td>\n",
              "      <td>0</td>\n",
              "      <td>0</td>\n",
              "      <td>0</td>\n",
              "      <td>0</td>\n",
              "      <td>0</td>\n",
              "      <td>0</td>\n",
              "      <td>0</td>\n",
              "      <td>49</td>\n",
              "      <td>68</td>\n",
              "      <td>83</td>\n",
              "      <td>215</td>\n",
              "      <td>210</td>\n",
              "      <td>...</td>\n",
              "      <td>0</td>\n",
              "      <td>0</td>\n",
              "      <td>1</td>\n",
              "      <td>0</td>\n",
              "      <td>0</td>\n",
              "      <td>218</td>\n",
              "      <td>221</td>\n",
              "      <td>211</td>\n",
              "      <td>0</td>\n",
              "      <td>0</td>\n",
              "      <td>0</td>\n",
              "      <td>0</td>\n",
              "      <td>0</td>\n",
              "      <td>0</td>\n",
              "      <td>14</td>\n",
              "      <td>107</td>\n",
              "      <td>143</td>\n",
              "      <td>17</td>\n",
              "      <td>0</td>\n",
              "      <td>1</td>\n",
              "      <td>0</td>\n",
              "      <td>0</td>\n",
              "      <td>0</td>\n",
              "      <td>0</td>\n",
              "      <td>0</td>\n",
              "      <td>0</td>\n",
              "      <td>0</td>\n",
              "      <td>0</td>\n",
              "      <td>0</td>\n",
              "      <td>0</td>\n",
              "      <td>0</td>\n",
              "      <td>0</td>\n",
              "      <td>0</td>\n",
              "      <td>147</td>\n",
              "      <td>162</td>\n",
              "      <td>104</td>\n",
              "      <td>0</td>\n",
              "      <td>0</td>\n",
              "      <td>0</td>\n",
              "      <td>2</td>\n",
              "    </tr>\n",
              "    <tr>\n",
              "      <th>2</th>\n",
              "      <td>0</td>\n",
              "      <td>0</td>\n",
              "      <td>0</td>\n",
              "      <td>0</td>\n",
              "      <td>0</td>\n",
              "      <td>0</td>\n",
              "      <td>0</td>\n",
              "      <td>0</td>\n",
              "      <td>0</td>\n",
              "      <td>0</td>\n",
              "      <td>87</td>\n",
              "      <td>78</td>\n",
              "      <td>0</td>\n",
              "      <td>0</td>\n",
              "      <td>0</td>\n",
              "      <td>0</td>\n",
              "      <td>141</td>\n",
              "      <td>69</td>\n",
              "      <td>0</td>\n",
              "      <td>0</td>\n",
              "      <td>0</td>\n",
              "      <td>0</td>\n",
              "      <td>0</td>\n",
              "      <td>0</td>\n",
              "      <td>0</td>\n",
              "      <td>0</td>\n",
              "      <td>0</td>\n",
              "      <td>0</td>\n",
              "      <td>0</td>\n",
              "      <td>0</td>\n",
              "      <td>0</td>\n",
              "      <td>0</td>\n",
              "      <td>0</td>\n",
              "      <td>0</td>\n",
              "      <td>0</td>\n",
              "      <td>0</td>\n",
              "      <td>77</td>\n",
              "      <td>207</td>\n",
              "      <td>225</td>\n",
              "      <td>229</td>\n",
              "      <td>...</td>\n",
              "      <td>227</td>\n",
              "      <td>221</td>\n",
              "      <td>230</td>\n",
              "      <td>189</td>\n",
              "      <td>0</td>\n",
              "      <td>0</td>\n",
              "      <td>0</td>\n",
              "      <td>0</td>\n",
              "      <td>0</td>\n",
              "      <td>0</td>\n",
              "      <td>0</td>\n",
              "      <td>0</td>\n",
              "      <td>0</td>\n",
              "      <td>0</td>\n",
              "      <td>0</td>\n",
              "      <td>0</td>\n",
              "      <td>0</td>\n",
              "      <td>0</td>\n",
              "      <td>0</td>\n",
              "      <td>0</td>\n",
              "      <td>88</td>\n",
              "      <td>125</td>\n",
              "      <td>137</td>\n",
              "      <td>160</td>\n",
              "      <td>137</td>\n",
              "      <td>114</td>\n",
              "      <td>123</td>\n",
              "      <td>120</td>\n",
              "      <td>101</td>\n",
              "      <td>58</td>\n",
              "      <td>20</td>\n",
              "      <td>3</td>\n",
              "      <td>0</td>\n",
              "      <td>0</td>\n",
              "      <td>0</td>\n",
              "      <td>0</td>\n",
              "      <td>0</td>\n",
              "      <td>0</td>\n",
              "      <td>0</td>\n",
              "      <td>3</td>\n",
              "    </tr>\n",
              "    <tr>\n",
              "      <th>3</th>\n",
              "      <td>0</td>\n",
              "      <td>0</td>\n",
              "      <td>0</td>\n",
              "      <td>0</td>\n",
              "      <td>0</td>\n",
              "      <td>0</td>\n",
              "      <td>0</td>\n",
              "      <td>0</td>\n",
              "      <td>0</td>\n",
              "      <td>0</td>\n",
              "      <td>0</td>\n",
              "      <td>0</td>\n",
              "      <td>2</td>\n",
              "      <td>0</td>\n",
              "      <td>0</td>\n",
              "      <td>0</td>\n",
              "      <td>1</td>\n",
              "      <td>0</td>\n",
              "      <td>0</td>\n",
              "      <td>69</td>\n",
              "      <td>18</td>\n",
              "      <td>0</td>\n",
              "      <td>0</td>\n",
              "      <td>0</td>\n",
              "      <td>0</td>\n",
              "      <td>0</td>\n",
              "      <td>0</td>\n",
              "      <td>0</td>\n",
              "      <td>0</td>\n",
              "      <td>0</td>\n",
              "      <td>0</td>\n",
              "      <td>0</td>\n",
              "      <td>0</td>\n",
              "      <td>0</td>\n",
              "      <td>0</td>\n",
              "      <td>121</td>\n",
              "      <td>185</td>\n",
              "      <td>207</td>\n",
              "      <td>89</td>\n",
              "      <td>0</td>\n",
              "      <td>...</td>\n",
              "      <td>232</td>\n",
              "      <td>232</td>\n",
              "      <td>236</td>\n",
              "      <td>247</td>\n",
              "      <td>238</td>\n",
              "      <td>255</td>\n",
              "      <td>76</td>\n",
              "      <td>0</td>\n",
              "      <td>0</td>\n",
              "      <td>0</td>\n",
              "      <td>0</td>\n",
              "      <td>0</td>\n",
              "      <td>0</td>\n",
              "      <td>0</td>\n",
              "      <td>0</td>\n",
              "      <td>1</td>\n",
              "      <td>0</td>\n",
              "      <td>14</td>\n",
              "      <td>126</td>\n",
              "      <td>122</td>\n",
              "      <td>165</td>\n",
              "      <td>193</td>\n",
              "      <td>210</td>\n",
              "      <td>226</td>\n",
              "      <td>234</td>\n",
              "      <td>233</td>\n",
              "      <td>233</td>\n",
              "      <td>236</td>\n",
              "      <td>234</td>\n",
              "      <td>229</td>\n",
              "      <td>229</td>\n",
              "      <td>215</td>\n",
              "      <td>175</td>\n",
              "      <td>145</td>\n",
              "      <td>5</td>\n",
              "      <td>0</td>\n",
              "      <td>0</td>\n",
              "      <td>0</td>\n",
              "      <td>0</td>\n",
              "      <td>0</td>\n",
              "    </tr>\n",
              "    <tr>\n",
              "      <th>4</th>\n",
              "      <td>0</td>\n",
              "      <td>0</td>\n",
              "      <td>0</td>\n",
              "      <td>0</td>\n",
              "      <td>0</td>\n",
              "      <td>0</td>\n",
              "      <td>0</td>\n",
              "      <td>0</td>\n",
              "      <td>0</td>\n",
              "      <td>0</td>\n",
              "      <td>0</td>\n",
              "      <td>0</td>\n",
              "      <td>0</td>\n",
              "      <td>0</td>\n",
              "      <td>0</td>\n",
              "      <td>0</td>\n",
              "      <td>0</td>\n",
              "      <td>0</td>\n",
              "      <td>0</td>\n",
              "      <td>0</td>\n",
              "      <td>0</td>\n",
              "      <td>0</td>\n",
              "      <td>0</td>\n",
              "      <td>0</td>\n",
              "      <td>0</td>\n",
              "      <td>0</td>\n",
              "      <td>0</td>\n",
              "      <td>0</td>\n",
              "      <td>0</td>\n",
              "      <td>0</td>\n",
              "      <td>0</td>\n",
              "      <td>0</td>\n",
              "      <td>0</td>\n",
              "      <td>0</td>\n",
              "      <td>0</td>\n",
              "      <td>0</td>\n",
              "      <td>0</td>\n",
              "      <td>0</td>\n",
              "      <td>0</td>\n",
              "      <td>0</td>\n",
              "      <td>...</td>\n",
              "      <td>0</td>\n",
              "      <td>0</td>\n",
              "      <td>0</td>\n",
              "      <td>0</td>\n",
              "      <td>0</td>\n",
              "      <td>0</td>\n",
              "      <td>0</td>\n",
              "      <td>0</td>\n",
              "      <td>0</td>\n",
              "      <td>0</td>\n",
              "      <td>0</td>\n",
              "      <td>0</td>\n",
              "      <td>0</td>\n",
              "      <td>0</td>\n",
              "      <td>0</td>\n",
              "      <td>0</td>\n",
              "      <td>0</td>\n",
              "      <td>0</td>\n",
              "      <td>0</td>\n",
              "      <td>0</td>\n",
              "      <td>0</td>\n",
              "      <td>0</td>\n",
              "      <td>0</td>\n",
              "      <td>0</td>\n",
              "      <td>0</td>\n",
              "      <td>0</td>\n",
              "      <td>0</td>\n",
              "      <td>0</td>\n",
              "      <td>0</td>\n",
              "      <td>0</td>\n",
              "      <td>0</td>\n",
              "      <td>0</td>\n",
              "      <td>0</td>\n",
              "      <td>0</td>\n",
              "      <td>0</td>\n",
              "      <td>0</td>\n",
              "      <td>0</td>\n",
              "      <td>0</td>\n",
              "      <td>0</td>\n",
              "      <td>9</td>\n",
              "    </tr>\n",
              "  </tbody>\n",
              "</table>\n",
              "<p>5 rows × 785 columns</p>\n",
              "</div>"
            ],
            "text/plain": [
              "   V1  V2  V3  V4  V5  V6  V7  V8  ...  V778  V779  V780  V781  V782  V783  V784  y\n",
              "0   0   0   0   0   0   1   3   2  ...   135   117    25     0     0     0     0  2\n",
              "1   0   0   0   0   0   0   0   0  ...     0   147   162   104     0     0     0  2\n",
              "2   0   0   0   0   0   0   0   0  ...     0     0     0     0     0     0     0  3\n",
              "3   0   0   0   0   0   0   0   0  ...   175   145     5     0     0     0     0  0\n",
              "4   0   0   0   0   0   0   0   0  ...     0     0     0     0     0     0     0  9\n",
              "\n",
              "[5 rows x 785 columns]"
            ]
          },
          "metadata": {
            "tags": []
          },
          "execution_count": 9
        }
      ]
    },
    {
      "cell_type": "markdown",
      "metadata": {
        "id": "SYoAUOYYzgVo",
        "colab_type": "text"
      },
      "source": [
        "##Import dataset with TensorFlow\n",
        "\n",
        "Langsung import test data dan train data Fashion MNIST dari tensorflow\n",
        "\n",
        "x = images (features) | y = label (target)"
      ]
    },
    {
      "cell_type": "code",
      "metadata": {
        "id": "mCtprHYOzo7-",
        "colab_type": "code",
        "colab": {}
      },
      "source": [
        "fminst = keras.datasets.fashion_mnist\n",
        "(x_train, y_train), (x_test, y_test) = tf.keras.datasets.fashion_mnist.load_data()"
      ],
      "execution_count": 0,
      "outputs": []
    },
    {
      "cell_type": "markdown",
      "metadata": {
        "id": "GSH55Rqi2dbw",
        "colab_type": "text"
      },
      "source": [
        "## Data Visualization with PyPlot"
      ]
    },
    {
      "cell_type": "code",
      "metadata": {
        "id": "EeEoSAjR2dE-",
        "colab_type": "code",
        "outputId": "0b75ebd1-a713-4983-cedb-55c4a507b375",
        "colab": {
          "base_uri": "https://localhost:8080/",
          "height": 69
        }
      },
      "source": [
        "# Memperlihatkan jumlah data di train & test set, juga pixel nya\n",
        "print(\"x_train shape:\", x_train.shape, \"y_train shape:\", y_train.shape)\n",
        "print(x_train.shape[0], 'train set')\n",
        "print(x_test.shape[0], 'test set')\n",
        "\n",
        "# Memberikan nama label karena ada bermacam-macam berurutan sesuai index\n",
        "fashion_mnist_labels = [\"T-shirt/top\",  \n",
        "                        \"Trouser\",      \n",
        "                        \"Pullover\",     \n",
        "                        \"Dress\",        \n",
        "                        \"Coat\",         \n",
        "                        \"Sandal\",       \n",
        "                        \"Shirt\",        \n",
        "                        \"Sneaker\",      \n",
        "                        \"Bag\",          \n",
        "                        \"Ankle boot\"]   "
      ],
      "execution_count": 0,
      "outputs": [
        {
          "output_type": "stream",
          "text": [
            "x_train shape: (60000, 28, 28) y_train shape: (60000,)\n",
            "60000 train set\n",
            "10000 test set\n"
          ],
          "name": "stdout"
        }
      ]
    },
    {
      "cell_type": "code",
      "metadata": {
        "id": "12sugUL04Ham",
        "colab_type": "code",
        "outputId": "f9f8162f-3b78-4ae4-ac94-b6e114a6fa07",
        "colab": {
          "base_uri": "https://localhost:8080/",
          "height": 317
        }
      },
      "source": [
        "# Print salah satu image dari dataset, misalnya index yang ke 150\n",
        "\n",
        "img_index = 150\n",
        "label_index = y_train[img_index]\n",
        "print (\"Index ke: \" + str(label_index))\n",
        "print(\"Label: \" + (fashion_mnist_labels[label_index]))\n",
        "plt.imshow(x_train[img_index])"
      ],
      "execution_count": 0,
      "outputs": [
        {
          "output_type": "stream",
          "text": [
            "Index ke: 9\n",
            "Label: Ankle boot\n"
          ],
          "name": "stdout"
        },
        {
          "output_type": "execute_result",
          "data": {
            "text/plain": [
              "<matplotlib.image.AxesImage at 0x7fdaed37cfd0>"
            ]
          },
          "metadata": {
            "tags": []
          },
          "execution_count": 12
        },
        {
          "output_type": "display_data",
          "data": {
            "image/png": "[encoded data removed]",
            "text/plain": [
              "<Figure size 432x288 with 1 Axes>"
            ]
          },
          "metadata": {
            "tags": []
          }
        }
      ]
    },
    {
      "cell_type": "markdown",
      "metadata": {
        "id": "GsqbESiJ5Cdv",
        "colab_type": "text"
      },
      "source": [
        "## Data Normalization\n",
        "Karena banyak features yang bernilai kosong (0) dan ada juga yang langsung bernilai besar (ratusan), maka lebih data akan di normalisasikan ke dalam bentuk binary (0 - 1) agar merata.\n",
        "\n",
        "Label TIDAK dinormalisasi."
      ]
    },
    {
      "cell_type": "code",
      "metadata": {
        "id": "fX2xLw3X5Awu",
        "colab_type": "code",
        "colab": {}
      },
      "source": [
        "x_train = x_train.astype('float32') / 255\n",
        "x_test = x_test.astype('float32') / 255"
      ],
      "execution_count": 0,
      "outputs": []
    },
    {
      "cell_type": "code",
      "metadata": {
        "id": "QLuqtxVb5tlG",
        "colab_type": "code",
        "colab": {}
      },
      "source": [
        "# Untuk mengecek keberhasilan normalisasi (un-comment line dibawah ini untuk melihat)\n",
        "# print(x_train[0])"
      ],
      "execution_count": 0,
      "outputs": []
    },
    {
      "cell_type": "markdown",
      "metadata": {
        "id": "ESLzZ2ds6Egq",
        "colab_type": "text"
      },
      "source": [
        "## Split data \n",
        "Kita akan bagi dataset menjadi (sesuai request dosen di kelas):\n",
        "1. Train = 48.000 dari train data\n",
        "2. Validation = 12.000 dari train data\n",
        "3. Test = 10.000 (test data)"
      ]
    },
    {
      "cell_type": "code",
      "metadata": {
        "id": "5uAi6frc6WAD",
        "colab_type": "code",
        "outputId": "0ee34f71-e7a0-42d3-c88c-ae9fd86f116a",
        "colab": {
          "base_uri": "https://localhost:8080/",
          "height": 69
        }
      },
      "source": [
        "(x_train, x_val) = x_train[:48000], x_train[48000:]\n",
        "(y_train, y_val) = y_train[:48000], y_train[48000:]\n",
        "\n",
        "w, h = 28, 28\n",
        "x_train = x_train.reshape(x_train.shape[0], w, h, 1)\n",
        "x_val = x_val.reshape(x_val.shape[0], w, h, 1)\n",
        "x_test = x_test.reshape(x_test.shape[0], w, h, 1)\n",
        "\n",
        "# Lakukan one hot encoding pada label\n",
        "y_train = tf.keras.utils.to_categorical(y_train, 10)\n",
        "y_val = tf.keras.utils.to_categorical(y_val, 10)\n",
        "y_test = tf.keras.utils.to_categorical(y_test, 10)\n",
        "\n",
        "# Print dan pastikan jumla dataset benar\n",
        "print(x_train.shape[0], 'train set')\n",
        "print(x_val.shape[0], 'validation set')\n",
        "print(x_test.shape[0], 'test set')"
      ],
      "execution_count": 0,
      "outputs": [
        {
          "output_type": "stream",
          "text": [
            "48000 train set\n",
            "12000 validation set\n",
            "10000 test set\n"
          ],
          "name": "stdout"
        }
      ]
    },
    {
      "cell_type": "markdown",
      "metadata": {
        "id": "tKNTACSN5oqO",
        "colab_type": "text"
      },
      "source": [
        "#Building Model (1)\n",
        "1. Convolutional: (Height, Width) = ( ( W − F + 2P ) / S ) + 1.\n",
        "2. Pooling: untuk Dimensionality Reduction atau Down Sampling inputan.\n",
        "3. Dropout: mengecilkan jumlah persentase dari neuron."
      ]
    },
    {
      "cell_type": "code",
      "metadata": {
        "id": "4OYmxHtuLIHp",
        "colab_type": "code",
        "outputId": "2025fec0-9156-4fa6-be59-ae10c8dbd8f3",
        "colab": {
          "base_uri": "https://localhost:8080/",
          "height": 575
        }
      },
      "source": [
        "model = tf.keras.Sequential()\n",
        "\n",
        "model.add(tf.keras.layers.Conv2D(filters=64, kernel_size=2, padding='same', activation='relu', input_shape=(28,28,1))) \n",
        "model.add(tf.keras.layers.MaxPooling2D(pool_size=2))\n",
        "model.add(tf.keras.layers.Dropout(0.3))\n",
        "\n",
        "model.add(tf.keras.layers.Conv2D(filters=32, kernel_size=2, padding='same', activation='relu'))\n",
        "model.add(tf.keras.layers.MaxPooling2D(pool_size=2))\n",
        "model.add(tf.keras.layers.Dropout(0.3))\n",
        "\n",
        "model.add(tf.keras.layers.Flatten())\n",
        "model.add(tf.keras.layers.Dense(256, activation='relu'))\n",
        "model.add(tf.keras.layers.Dropout(0.5))\n",
        "model.add(tf.keras.layers.Dense(10, activation='softmax'))\n",
        "\n",
        "model.summary()"
      ],
      "execution_count": 0,
      "outputs": [
        {
          "output_type": "stream",
          "text": [
            "WARNING:tensorflow:From /usr/local/lib/python3.6/dist-packages/tensorflow_core/python/ops/resource_variable_ops.py:1630: calling BaseResourceVariable.__init__ (from tensorflow.python.ops.resource_variable_ops) with constraint is deprecated and will be removed in a future version.\n",
            "Instructions for updating:\n",
            "If using Keras pass *_constraint arguments to layers.\n",
            "Model: \"sequential\"\n",
            "_________________________________________________________________\n",
            "Layer (type)                 Output Shape              Param #   \n",
            "=================================================================\n",
            "conv2d (Conv2D)              (None, 28, 28, 64)        320       \n",
            "_________________________________________________________________\n",
            "max_pooling2d (MaxPooling2D) (None, 14, 14, 64)        0         \n",
            "_________________________________________________________________\n",
            "dropout (Dropout)            (None, 14, 14, 64)        0         \n",
            "_________________________________________________________________\n",
            "conv2d_1 (Conv2D)            (None, 14, 14, 32)        8224      \n",
            "_________________________________________________________________\n",
            "max_pooling2d_1 (MaxPooling2 (None, 7, 7, 32)          0         \n",
            "_________________________________________________________________\n",
            "dropout_1 (Dropout)          (None, 7, 7, 32)          0         \n",
            "_________________________________________________________________\n",
            "flatten (Flatten)            (None, 1568)              0         \n",
            "_________________________________________________________________\n",
            "dense (Dense)                (None, 256)               401664    \n",
            "_________________________________________________________________\n",
            "dropout_2 (Dropout)          (None, 256)               0         \n",
            "_________________________________________________________________\n",
            "dense_1 (Dense)              (None, 10)                2570      \n",
            "=================================================================\n",
            "Total params: 412,778\n",
            "Trainable params: 412,778\n",
            "Non-trainable params: 0\n",
            "_________________________________________________________________\n"
          ],
          "name": "stdout"
        }
      ]
    },
    {
      "cell_type": "markdown",
      "metadata": {
        "id": "e-OxHjBjNQk6",
        "colab_type": "text"
      },
      "source": [
        "#Compiling Model (1)\n",
        "Kita menggunakan Adam Optimizer yang merupakan stochastic optimizer, untuk selengkapnya bisa dibaca di: https://arxiv.org/abs/1412.6980v8.\n",
        "\n",
        "Dikarenakan FashionMnist merupakan Multiclass Classification, maka kita menggunakan categorical_crossentropy."
      ]
    },
    {
      "cell_type": "code",
      "metadata": {
        "id": "ofbrrxXVNwr1",
        "colab_type": "code",
        "colab": {}
      },
      "source": [
        "model.compile(loss='categorical_crossentropy',\n",
        "             optimizer='adam',\n",
        "             metrics=['accuracy'])"
      ],
      "execution_count": 0,
      "outputs": []
    },
    {
      "cell_type": "markdown",
      "metadata": {
        "id": "Se67YfoINz6J",
        "colab_type": "text"
      },
      "source": [
        "#Training (1)\n",
        "Untuk training model kami menggunakan fit() yang akan me-return informasi hasil training seperti: training error dan accuracy juga validasi error dan accuracy  \n",
        "untuk setiap 10 epoch (jumlah epoch dapat diganti di parameter). "
      ]
    },
    {
      "cell_type": "code",
      "metadata": {
        "id": "U_5ZAhUmOlkC",
        "colab_type": "code",
        "outputId": "bdf2a086-8bd2-42c6-859b-b374cc730a6b",
        "colab": {
          "base_uri": "https://localhost:8080/",
          "height": 728
        }
      },
      "source": [
        "checkpointer = ModelCheckpoint(filepath='model.weights.best.hdf5', verbose = 1, save_best_only=True)\n",
        "history = model.fit(x_train, y_train, batch_size=64, epochs=10, validation_data=(x_val, y_val), callbacks=[checkpointer])"
      ],
      "execution_count": 0,
      "outputs": [
        {
          "output_type": "stream",
          "text": [
            "Train on 48000 samples, validate on 12000 samples\n",
            "Epoch 1/10\n",
            "47936/48000 [============================>.] - ETA: 0s - loss: 0.6226 - acc: 0.7692\n",
            "Epoch 00001: val_loss improved from inf to 0.40633, saving model to model.weights.best.hdf5\n",
            "48000/48000 [==============================] - 59s 1ms/sample - loss: 0.6227 - acc: 0.7692 - val_loss: 0.4063 - val_acc: 0.8565\n",
            "Epoch 2/10\n",
            "47936/48000 [============================>.] - ETA: 0s - loss: 0.4299 - acc: 0.8443\n",
            "Epoch 00002: val_loss improved from 0.40633 to 0.35078, saving model to model.weights.best.hdf5\n",
            "48000/48000 [==============================] - 59s 1ms/sample - loss: 0.4297 - acc: 0.8444 - val_loss: 0.3508 - val_acc: 0.8742\n",
            "Epoch 3/10\n",
            "47936/48000 [============================>.] - ETA: 0s - loss: 0.3766 - acc: 0.8641\n",
            "Epoch 00003: val_loss improved from 0.35078 to 0.30806, saving model to model.weights.best.hdf5\n",
            "48000/48000 [==============================] - 60s 1ms/sample - loss: 0.3766 - acc: 0.8641 - val_loss: 0.3081 - val_acc: 0.8878\n",
            "Epoch 4/10\n",
            "47936/48000 [============================>.] - ETA: 0s - loss: 0.3508 - acc: 0.8718\n",
            "Epoch 00004: val_loss improved from 0.30806 to 0.29709, saving model to model.weights.best.hdf5\n",
            "48000/48000 [==============================] - 59s 1ms/sample - loss: 0.3506 - acc: 0.8719 - val_loss: 0.2971 - val_acc: 0.8894\n",
            "Epoch 5/10\n",
            "47936/48000 [============================>.] - ETA: 0s - loss: 0.3252 - acc: 0.8812\n",
            "Epoch 00005: val_loss improved from 0.29709 to 0.27803, saving model to model.weights.best.hdf5\n",
            "48000/48000 [==============================] - 58s 1ms/sample - loss: 0.3252 - acc: 0.8812 - val_loss: 0.2780 - val_acc: 0.8962\n",
            "Epoch 6/10\n",
            "47936/48000 [============================>.] - ETA: 0s - loss: 0.3134 - acc: 0.8856\n",
            "Epoch 00006: val_loss improved from 0.27803 to 0.25948, saving model to model.weights.best.hdf5\n",
            "48000/48000 [==============================] - 59s 1ms/sample - loss: 0.3133 - acc: 0.8856 - val_loss: 0.2595 - val_acc: 0.9028\n",
            "Epoch 7/10\n",
            "47936/48000 [============================>.] - ETA: 0s - loss: 0.2997 - acc: 0.8902\n",
            "Epoch 00007: val_loss improved from 0.25948 to 0.24977, saving model to model.weights.best.hdf5\n",
            "48000/48000 [==============================] - 59s 1ms/sample - loss: 0.2999 - acc: 0.8902 - val_loss: 0.2498 - val_acc: 0.9076\n",
            "Epoch 8/10\n",
            "47936/48000 [============================>.] - ETA: 0s - loss: 0.2879 - acc: 0.8945\n",
            "Epoch 00008: val_loss improved from 0.24977 to 0.24672, saving model to model.weights.best.hdf5\n",
            "48000/48000 [==============================] - 60s 1ms/sample - loss: 0.2880 - acc: 0.8944 - val_loss: 0.2467 - val_acc: 0.9102\n",
            "Epoch 9/10\n",
            "47936/48000 [============================>.] - ETA: 0s - loss: 0.2760 - acc: 0.8984\n",
            "Epoch 00009: val_loss improved from 0.24672 to 0.24286, saving model to model.weights.best.hdf5\n",
            "48000/48000 [==============================] - 60s 1ms/sample - loss: 0.2759 - acc: 0.8984 - val_loss: 0.2429 - val_acc: 0.9087\n",
            "Epoch 10/10\n",
            "47936/48000 [============================>.] - ETA: 0s - loss: 0.2727 - acc: 0.8994\n",
            "Epoch 00010: val_loss improved from 0.24286 to 0.24091, saving model to model.weights.best.hdf5\n",
            "48000/48000 [==============================] - 59s 1ms/sample - loss: 0.2726 - acc: 0.8994 - val_loss: 0.2409 - val_acc: 0.9102\n"
          ],
          "name": "stdout"
        }
      ]
    },
    {
      "cell_type": "markdown",
      "metadata": {
        "id": "O2crz245SeDH",
        "colab_type": "text"
      },
      "source": [
        "#Evaluating Model(1)\n",
        "\n",
        "Dengan data testing.\n"
      ]
    },
    {
      "cell_type": "code",
      "metadata": {
        "id": "Th69lMyDSVxs",
        "colab_type": "code",
        "outputId": "056c7c9a-9750-48aa-fd98-5fba542b9732",
        "colab": {
          "base_uri": "https://localhost:8080/",
          "height": 52
        }
      },
      "source": [
        "model.load_weights('model.weights.best.hdf5')\n",
        "score = model.evaluate(x_test, y_test, verbose=0)\n",
        "print('Test lost percentage:', score[0]*100, '%')\n",
        "print('Test accuracy percentage:', score[1]*100, '%')"
      ],
      "execution_count": 0,
      "outputs": [
        {
          "output_type": "stream",
          "text": [
            "Test lost percentage: 25.141771914958955 %\n",
            "Test accuracy percentage: 90.71000218391418 %\n"
          ],
          "name": "stdout"
        }
      ]
    },
    {
      "cell_type": "markdown",
      "metadata": {
        "id": "y_-udJ6xHU9I",
        "colab_type": "text"
      },
      "source": [
        "#Plot: Training Accuracy and Validation Accuracy (1)\n",
        "Menggunakan plot curves."
      ]
    },
    {
      "cell_type": "code",
      "metadata": {
        "id": "Bu-jX4CoHhRg",
        "colab_type": "code",
        "outputId": "ff428a6b-c29e-45c8-d3ab-7d2dc193bdf7",
        "colab": {
          "base_uri": "https://localhost:8080/",
          "height": 295
        }
      },
      "source": [
        "plt.plot(history.history['acc'])\n",
        "plt.plot(history.history['val_acc'])\n",
        "plt.title(\"Model Accuracy\")\n",
        "plt.xlabel('Epochs')\n",
        "plt.ylabel('Accuracy')\n",
        "plt.legend(['Train', 'Validation'])\n",
        "plt.show()"
      ],
      "execution_count": 0,
      "outputs": [
        {
          "output_type": "display_data",
          "data": {
            "image/png": "[encoded data removed]",
            "text/plain": [
              "<Figure size 432x288 with 1 Axes>"
            ]
          },
          "metadata": {
            "tags": []
          }
        }
      ]
    },
    {
      "cell_type": "markdown",
      "metadata": {
        "id": "cKq_RAq7IFuG",
        "colab_type": "text"
      },
      "source": [
        "#Confusion Matrix (1)\n",
        "Jumlah class sesuai dengan jumlah label (label tersimpan di variabel **fashion_mnist_labels**)."
      ]
    },
    {
      "cell_type": "code",
      "metadata": {
        "id": "-LqhTpLGKmRj",
        "colab_type": "code",
        "colab": {}
      },
      "source": [
        "#Function Confusion Matrix\n",
        "def plot_confusion_matrix(cm, classes,\n",
        "                          normalize=False,\n",
        "                          title='Confusion matrix',\n",
        "                          cmap=plt.cm.Blues):\n",
        "    \n",
        "    plt.imshow(cm, interpolation='nearest', cmap=cmap)\n",
        "    plt.title(title)\n",
        "    plt.colorbar()\n",
        "    tick_marks = np.arange(len(classes))\n",
        "    plt.xticks(tick_marks, classes, rotation=90)\n",
        "    plt.yticks(tick_marks, classes)\n",
        "\n",
        "    if normalize:\n",
        "        cm = cm.astype('float') / cm.sum(axis=1)[:, np.newaxis]\n",
        "\n",
        "    thresh = cm.max() / 2.\n",
        "    for i, j in itertools.product(range(cm.shape[0]), range(cm.shape[1])):\n",
        "        plt.text(j, i, cm[i, j],\n",
        "                 horizontalalignment=\"center\",\n",
        "                 color=\"white\" if cm[i, j] > thresh else \"black\")\n",
        "\n",
        "    plt.tight_layout()\n",
        "    plt.ylabel('Actual')\n",
        "    plt.xlabel('Predicted')"
      ],
      "execution_count": 0,
      "outputs": []
    },
    {
      "cell_type": "code",
      "metadata": {
        "id": "SV2mdj9rLHMQ",
        "colab_type": "code",
        "outputId": "d8260e0b-fa36-4579-f447-2331a7653f32",
        "colab": {
          "base_uri": "https://localhost:8080/",
          "height": 311
        }
      },
      "source": [
        "# Dari data testing\n",
        "y_pred = model.predict(x_test)\n",
        "y_pred_classes = np.argmax(y_pred,axis = 1) \n",
        "y_true = np.argmax(y_test,axis = 1) \n",
        "\n",
        "# Menghitung confusion matrix\n",
        "confusion_mtx = confusion_matrix(y_true, y_pred_classes) \n",
        "# Plot\n",
        "plot_confusion_matrix(confusion_mtx, classes = fashion_mnist_labels)"
      ],
      "execution_count": 0,
      "outputs": [
        {
          "output_type": "display_data",
          "data": {
            "image/png": "[encoded data removed]",
            "text/plain": [
              "<Figure size 432x288 with 2 Axes>"
            ]
          },
          "metadata": {
            "tags": []
          }
        }
      ]
    },
    {
      "cell_type": "markdown",
      "metadata": {
        "id": "e5JTUYbVPPRQ",
        "colab_type": "text"
      },
      "source": [
        "#Classification Report (1)\n",
        "Accuracy, Precision, Recall dan F1 Score."
      ]
    },
    {
      "cell_type": "code",
      "metadata": {
        "id": "bmDiD_LsPn7H",
        "colab_type": "code",
        "outputId": "8d2499e1-f4d6-4c66-80c5-0ed86f24e6c3",
        "colab": {
          "base_uri": "https://localhost:8080/",
          "height": 312
        }
      },
      "source": [
        "print(classification_report(y_true, y_pred_classes, target_names = fashion_mnist_labels))"
      ],
      "execution_count": 0,
      "outputs": [
        {
          "output_type": "stream",
          "text": [
            "              precision    recall  f1-score   support\n",
            "\n",
            " T-shirt/top       0.85      0.88      0.87      1000\n",
            "     Trouser       0.98      0.98      0.98      1000\n",
            "    Pullover       0.89      0.83      0.86      1000\n",
            "       Dress       0.90      0.91      0.90      1000\n",
            "        Coat       0.80      0.90      0.85      1000\n",
            "      Sandal       0.99      0.96      0.97      1000\n",
            "       Shirt       0.79      0.69      0.74      1000\n",
            "     Sneaker       0.95      0.96      0.95      1000\n",
            "         Bag       0.98      0.99      0.98      1000\n",
            "  Ankle boot       0.94      0.97      0.96      1000\n",
            "\n",
            "    accuracy                           0.91     10000\n",
            "   macro avg       0.91      0.91      0.91     10000\n",
            "weighted avg       0.91      0.91      0.91     10000\n",
            "\n"
          ],
          "name": "stdout"
        }
      ]
    },
    {
      "cell_type": "markdown",
      "metadata": {
        "id": "2r1jVoBQTvc_",
        "colab_type": "text"
      },
      "source": [
        "#Visualisasi Hasil Prediksi (1)\n",
        "Kita mengambil 10 gambar random dari test image lalu di plot, jika hasil prediksi benar maka warna title akan **hijau**, jika salah maka warna title akan **merah**.\n"
      ]
    },
    {
      "cell_type": "code",
      "metadata": {
        "id": "g3rn5WMvT0F2",
        "colab_type": "code",
        "outputId": "5971d6e6-d5b8-46fc-ee7f-417c0de5b7e2",
        "colab": {
          "base_uri": "https://localhost:8080/",
          "height": 661
        }
      },
      "source": [
        "y_hat = model.predict(x_test)\n",
        "\n",
        "figure = plt.figure(figsize=(18, 11))\n",
        "for i, index in enumerate(np.random.choice(x_test.shape[0], size=15, replace=False)):\n",
        "    ax = figure.add_subplot(3, 5, i + 1, xticks=[], yticks=[])\n",
        "    # Show image\n",
        "    ax.imshow(np.squeeze(x_test[index]))\n",
        "    predict_index = np.argmax(y_hat[index])\n",
        "    true_index = np.argmax(y_test[index])\n",
        "    # Title\n",
        "    ax.set_title(\"Predicted: {}\\nActual: {}\".\n",
        "                 format(fashion_mnist_labels[predict_index], \n",
        "                  fashion_mnist_labels[true_index]),\n",
        "                  color=(\"green\" if predict_index == true_index else \"red\"))"
      ],
      "execution_count": 0,
      "outputs": [
        {
          "output_type": "display_data",
          "data": {
            "image/png": "[encoded data removed]",
            "text/plain": [
              "<Figure size 1296x792 with 15 Axes>"
            ]
          },
          "metadata": {
            "tags": []
          }
        }
      ]
    },
    {
      "cell_type": "markdown",
      "metadata": {
        "id": "Wk8yzmUjZdpg",
        "colab_type": "text"
      },
      "source": [
        "#Building Model (2)\n",
        "1. Convolutional: (Height, Width) = ( ( W − F + 2P ) / S ) + 1.\n",
        "2. Pooling: untuk Dimensionality Reduction atau Down Sampling inputan.\n",
        "3. Dropout: mengecilkan jumlah persentase dari neuron.\n",
        "4. Batch Normalization: menaikan kecepatan dan akurasi dari neural networks."
      ]
    },
    {
      "cell_type": "code",
      "metadata": {
        "id": "YT2w8p8_pzgN",
        "colab_type": "code",
        "outputId": "6e50b911-67fe-4e2c-8137-97f6c4f48621",
        "colab": {
          "base_uri": "https://localhost:8080/",
          "height": 572
        }
      },
      "source": [
        "model = tf.keras.Sequential()\n",
        "model.add(tf.keras.layers.Conv2D(32, kernel_size=(3, 3),activation='relu',kernel_initializer='he_normal',input_shape=(28,28,1)))\n",
        "model.add(tf.keras.layers.MaxPooling2D((2, 2)))\n",
        "model.add(tf.keras.layers.Dropout(0.25))\n",
        "\n",
        "model.add(tf.keras.layers.Conv2D(64, (3, 3), activation='relu'))\n",
        "model.add(tf.keras.layers.MaxPooling2D(pool_size=(2, 2)))\n",
        "model.add(tf.keras.layers.Dropout(0.25))\n",
        "\n",
        "model.add(tf.keras.layers.Conv2D(128, (3, 3), activation='relu'))\n",
        "model.add(tf.keras.layers.Dropout(0.4))\n",
        "\n",
        "model.add(tf.keras.layers.Flatten())\n",
        "model.add(tf.keras.layers.Dense(128, activation='relu'))\n",
        "model.add(tf.keras.layers.Dropout(0.3))\n",
        "model.add(tf.keras.layers.Dense(10, activation='softmax'))\n",
        "\n",
        "model.summary()\n"
      ],
      "execution_count": 0,
      "outputs": [
        {
          "output_type": "stream",
          "text": [
            "Model: \"sequential_9\"\n",
            "_________________________________________________________________\n",
            "Layer (type)                 Output Shape              Param #   \n",
            "=================================================================\n",
            "conv2d_24 (Conv2D)           (None, 26, 26, 32)        320       \n",
            "_________________________________________________________________\n",
            "max_pooling2d_19 (MaxPooling (None, 13, 13, 32)        0         \n",
            "_________________________________________________________________\n",
            "dropout_32 (Dropout)         (None, 13, 13, 32)        0         \n",
            "_________________________________________________________________\n",
            "conv2d_25 (Conv2D)           (None, 11, 11, 64)        18496     \n",
            "_________________________________________________________________\n",
            "max_pooling2d_20 (MaxPooling (None, 5, 5, 64)          0         \n",
            "_________________________________________________________________\n",
            "dropout_33 (Dropout)         (None, 5, 5, 64)          0         \n",
            "_________________________________________________________________\n",
            "conv2d_26 (Conv2D)           (None, 3, 3, 128)         73856     \n",
            "_________________________________________________________________\n",
            "dropout_34 (Dropout)         (None, 3, 3, 128)         0         \n",
            "_________________________________________________________________\n",
            "flatten_8 (Flatten)          (None, 1152)              0         \n",
            "_________________________________________________________________\n",
            "dense_16 (Dense)             (None, 128)               147584    \n",
            "_________________________________________________________________\n",
            "dropout_35 (Dropout)         (None, 128)               0         \n",
            "_________________________________________________________________\n",
            "dense_17 (Dense)             (None, 10)                1290      \n",
            "=================================================================\n",
            "Total params: 241,546\n",
            "Trainable params: 241,546\n",
            "Non-trainable params: 0\n",
            "_________________________________________________________________\n"
          ],
          "name": "stdout"
        }
      ]
    },
    {
      "cell_type": "code",
      "metadata": {
        "id": "Mz68A6CW9m6n",
        "colab_type": "code",
        "colab": {}
      },
      "source": [
        "model.compile(loss=keras.losses.categorical_crossentropy,\n",
        "              optimizer=keras.optimizers.Adam(),\n",
        "              metrics=['accuracy'])"
      ],
      "execution_count": 0,
      "outputs": []
    },
    {
      "cell_type": "markdown",
      "metadata": {
        "id": "0I7rGnjKuGGr",
        "colab_type": "text"
      },
      "source": [
        "#Training(2)\n"
      ]
    },
    {
      "cell_type": "code",
      "metadata": {
        "id": "UF50HLZauJeg",
        "colab_type": "code",
        "outputId": "7e66e253-ab9a-47ac-8e3e-00752d1b9f60",
        "colab": {
          "base_uri": "https://localhost:8080/",
          "height": 381
        }
      },
      "source": [
        "checkpointer = ModelCheckpoint(filepath='model.weights.best.hdf5', verbose = 1, save_best_only=True)\n",
        "history = model.fit(x_train, y_train, batch_size=64, epochs=5, validation_data=(x_val, y_val), callbacks=[checkpointer])"
      ],
      "execution_count": 68,
      "outputs": [
        {
          "output_type": "stream",
          "text": [
            "Train on 48000 samples, validate on 12000 samples\n",
            "Epoch 1/5\n",
            "47936/48000 [============================>.] - ETA: 0s - loss: 0.2465 - acc: 0.9094\n",
            "Epoch 00001: val_loss improved from inf to 0.23404, saving model to model.weights.best.hdf5\n",
            "48000/48000 [==============================] - 50s 1ms/sample - loss: 0.2465 - acc: 0.9094 - val_loss: 0.2340 - val_acc: 0.9133\n",
            "Epoch 2/5\n",
            "47936/48000 [============================>.] - ETA: 0s - loss: 0.2439 - acc: 0.9085\n",
            "Epoch 00002: val_loss did not improve from 0.23404\n",
            "48000/48000 [==============================] - 50s 1ms/sample - loss: 0.2440 - acc: 0.9085 - val_loss: 0.2343 - val_acc: 0.9143\n",
            "Epoch 3/5\n",
            "47936/48000 [============================>.] - ETA: 0s - loss: 0.2427 - acc: 0.9109\n",
            "Epoch 00003: val_loss did not improve from 0.23404\n",
            "48000/48000 [==============================] - 50s 1ms/sample - loss: 0.2427 - acc: 0.9109 - val_loss: 0.2390 - val_acc: 0.9143\n",
            "Epoch 4/5\n",
            "47936/48000 [============================>.] - ETA: 0s - loss: 0.2386 - acc: 0.9110\n",
            "Epoch 00004: val_loss improved from 0.23404 to 0.22757, saving model to model.weights.best.hdf5\n",
            "48000/48000 [==============================] - 50s 1ms/sample - loss: 0.2386 - acc: 0.9110 - val_loss: 0.2276 - val_acc: 0.9171\n",
            "Epoch 5/5\n",
            "47936/48000 [============================>.] - ETA: 0s - loss: 0.2327 - acc: 0.9128\n",
            "Epoch 00005: val_loss did not improve from 0.22757\n",
            "48000/48000 [==============================] - 50s 1ms/sample - loss: 0.2327 - acc: 0.9129 - val_loss: 0.2286 - val_acc: 0.9174\n"
          ],
          "name": "stdout"
        }
      ]
    },
    {
      "cell_type": "markdown",
      "metadata": {
        "id": "H3pD7rBJ64DN",
        "colab_type": "text"
      },
      "source": [
        "#Evaluating Model(2)"
      ]
    },
    {
      "cell_type": "code",
      "metadata": {
        "id": "i9VccDrg65OE",
        "colab_type": "code",
        "outputId": "a13bc517-f2bc-4857-a639-6905478670b9",
        "colab": {
          "base_uri": "https://localhost:8080/",
          "height": 52
        }
      },
      "source": [
        "model.load_weights('model.weights.best.hdf5')\n",
        "score = model.evaluate(x_test, y_test, verbose=0)\n",
        "print('Test lost percentage:', score[0]*100, '%')\n",
        "print('Test accuracy percentage:', score[1]*100, '%')"
      ],
      "execution_count": 69,
      "outputs": [
        {
          "output_type": "stream",
          "text": [
            "Test lost percentage: 24.109923591613768 %\n",
            "Test accuracy percentage: 91.06000065803528 %\n"
          ],
          "name": "stdout"
        }
      ]
    },
    {
      "cell_type": "markdown",
      "metadata": {
        "id": "NFPsfzhGESDJ",
        "colab_type": "text"
      },
      "source": [
        "#Plot: Training Accuracy and Validation Accuracy (2)\n",
        "\n",
        "---\n",
        "\n",
        "\n"
      ]
    },
    {
      "cell_type": "code",
      "metadata": {
        "id": "k3KQLpyPDbuc",
        "colab_type": "code",
        "colab": {
          "base_uri": "https://localhost:8080/",
          "height": 295
        },
        "outputId": "d2cc574a-8c85-4350-8e6f-b4b0175bcec7"
      },
      "source": [
        "plt.plot(history.history['acc'])\n",
        "plt.plot(history.history['val_acc'])\n",
        "plt.title(\"Model Accuracy\")\n",
        "plt.xlabel('Epochs')\n",
        "plt.ylabel('Accuracy')\n",
        "plt.legend(['Train', 'Validation'])\n",
        "plt.show()"
      ],
      "execution_count": 70,
      "outputs": [
        {
          "output_type": "display_data",
          "data": {
            "image/png": "[encoded data removed]",
            "text/plain": [
              "<Figure size 432x288 with 1 Axes>"
            ]
          },
          "metadata": {
            "tags": []
          }
        }
      ]
    },
    {
      "cell_type": "markdown",
      "metadata": {
        "id": "jchPATd9EXxx",
        "colab_type": "text"
      },
      "source": [
        "#Confusion Matrix (2)"
      ]
    },
    {
      "cell_type": "code",
      "metadata": {
        "id": "4-qmD7oADfXZ",
        "colab_type": "code",
        "colab": {
          "base_uri": "https://localhost:8080/",
          "height": 311
        },
        "outputId": "02684e37-c4ed-48e4-cd60-72f3c6dc23e0"
      },
      "source": [
        "# Dari data testing\n",
        "y_pred = model.predict(x_test)\n",
        "y_pred_classes = np.argmax(y_pred,axis = 1) \n",
        "y_true = np.argmax(y_test,axis = 1) \n",
        "\n",
        "# Menghitung confusion matrix\n",
        "confusion_mtx = confusion_matrix(y_true, y_pred_classes) \n",
        "# Plot\n",
        "plot_confusion_matrix(confusion_mtx, classes = fashion_mnist_labels)"
      ],
      "execution_count": 71,
      "outputs": [
        {
          "output_type": "display_data",
          "data": {
            "image/png": "[encoded data removed]",
            "text/plain": [
              "<Figure size 432x288 with 2 Axes>"
            ]
          },
          "metadata": {
            "tags": []
          }
        }
      ]
    },
    {
      "cell_type": "markdown",
      "metadata": {
        "id": "kwwwXPy4EcCu",
        "colab_type": "text"
      },
      "source": [
        "#Classification Report (2)"
      ]
    },
    {
      "cell_type": "code",
      "metadata": {
        "id": "O8c6TkorDjdM",
        "colab_type": "code",
        "colab": {
          "base_uri": "https://localhost:8080/",
          "height": 312
        },
        "outputId": "73fed2b1-d55b-414c-b979-34c806133f24"
      },
      "source": [
        "print(classification_report(y_true, y_pred_classes, target_names = fashion_mnist_labels))"
      ],
      "execution_count": 72,
      "outputs": [
        {
          "output_type": "stream",
          "text": [
            "              precision    recall  f1-score   support\n",
            "\n",
            " T-shirt/top       0.83      0.89      0.86      1000\n",
            "     Trouser       1.00      0.98      0.99      1000\n",
            "    Pullover       0.87      0.88      0.87      1000\n",
            "       Dress       0.89      0.93      0.91      1000\n",
            "        Coat       0.87      0.84      0.86      1000\n",
            "      Sandal       0.99      0.97      0.98      1000\n",
            "       Shirt       0.76      0.69      0.72      1000\n",
            "     Sneaker       0.95      0.97      0.96      1000\n",
            "         Bag       0.98      0.98      0.98      1000\n",
            "  Ankle boot       0.97      0.97      0.97      1000\n",
            "\n",
            "    accuracy                           0.91     10000\n",
            "   macro avg       0.91      0.91      0.91     10000\n",
            "weighted avg       0.91      0.91      0.91     10000\n",
            "\n"
          ],
          "name": "stdout"
        }
      ]
    },
    {
      "cell_type": "markdown",
      "metadata": {
        "id": "1lA8GkSBEhHY",
        "colab_type": "text"
      },
      "source": [
        "#Visualisasi Hasil Prediksi (2)"
      ]
    },
    {
      "cell_type": "code",
      "metadata": {
        "id": "F4FekAvMDpUz",
        "colab_type": "code",
        "colab": {
          "base_uri": "https://localhost:8080/",
          "height": 661
        },
        "outputId": "ce994e0b-aaf7-47db-a30f-e54ff5100f74"
      },
      "source": [
        "y_hat = model.predict(x_test)\n",
        "\n",
        "figure = plt.figure(figsize=(18, 11))\n",
        "for i, index in enumerate(np.random.choice(x_test.shape[0], size=15, replace=False)):\n",
        "    ax = figure.add_subplot(3, 5, i + 1, xticks=[], yticks=[])\n",
        "    # Show image\n",
        "    ax.imshow(np.squeeze(x_test[index]))\n",
        "    predict_index = np.argmax(y_hat[index])\n",
        "    true_index = np.argmax(y_test[index])\n",
        "    # Title\n",
        "    ax.set_title(\"Predicted: {}\\nActual: {}\".\n",
        "                 format(fashion_mnist_labels[predict_index], \n",
        "                  fashion_mnist_labels[true_index]),\n",
        "                  color=(\"green\" if predict_index == true_index else \"red\"))"
      ],
      "execution_count": 74,
      "outputs": [
        {
          "output_type": "display_data",
          "data": {
            "image/png": "[encoded data removed]",
            "text/plain": [
              "<Figure size 1296x792 with 15 Axes>"
            ]
          },
          "metadata": {
            "tags": []
          }
        }
      ]
    },
    {
      "cell_type": "markdown",
      "metadata": {
        "id": "dyWuTeM4G900",
        "colab_type": "text"
      },
      "source": [
        "#Conclusion\n",
        "Kedua model dapat memprediksi dengan baik dan memiliki nilai accuracy yang identik (diatas 90%). "
      ]
    }
  ]
}
